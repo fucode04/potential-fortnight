{
  "nbformat": 4,
  "nbformat_minor": 0,
  "metadata": {
    "colab": {
      "provenance": [],
      "authorship_tag": "ABX9TyNqRavtEaSddnluEIVftlEb",
      "include_colab_link": true
    },
    "kernelspec": {
      "name": "python3",
      "display_name": "Python 3"
    },
    "language_info": {
      "name": "python"
    }
  },
  "cells": [
    {
      "cell_type": "markdown",
      "metadata": {
        "id": "view-in-github",
        "colab_type": "text"
      },
      "source": [
        "<a href=\"https://colab.research.google.com/github/fucode04/potential-fortnight/blob/main/Lung_cancer.ipynb\" target=\"_parent\"><img src=\"https://colab.research.google.com/assets/colab-badge.svg\" alt=\"Open In Colab\"/></a>"
      ]
    },
    {
      "cell_type": "code",
      "execution_count": null,
      "metadata": {
        "id": "5DdKAnXVQo1t"
      },
      "outputs": [],
      "source": [
        "import numpy as np\n",
        "import pandas as pd\n",
        "import matplotlib.pyplot as plt\n",
        "import seaborn as sns\n",
        "import warnings\n",
        "warnings.filterwarnings('ignore')"
      ]
    },
    {
      "cell_type": "code",
      "source": [
        "import os\n",
        "dataset = pd.read_csv(\"survey lung cancer.csv\")\n",
        "x= dataset.iloc[:,:-1].values\n",
        "y= dataset.iloc[:,-1].values\n"
      ],
      "metadata": {
        "id": "FVWI_iYFQ5Oo"
      },
      "execution_count": null,
      "outputs": []
    },
    {
      "cell_type": "code",
      "source": [
        "print(x)"
      ],
      "metadata": {
        "colab": {
          "base_uri": "https://localhost:8080/"
        },
        "id": "k214bt8zTOuu",
        "outputId": "a72e9f23-1055-4403-a598-01cbb145de92"
      },
      "execution_count": null,
      "outputs": [
        {
          "output_type": "stream",
          "name": "stdout",
          "text": [
            "[['M' 69 1 ... 2 2 2]\n",
            " ['M' 74 2 ... 2 2 2]\n",
            " ['F' 59 1 ... 2 1 2]\n",
            " ...\n",
            " ['M' 58 2 ... 1 1 2]\n",
            " ['M' 67 2 ... 2 1 2]\n",
            " ['M' 62 1 ... 1 2 1]]\n"
          ]
        }
      ]
    },
    {
      "cell_type": "code",
      "source": [
        "print(y)"
      ],
      "metadata": {
        "colab": {
          "base_uri": "https://localhost:8080/"
        },
        "id": "LyToPDzpTTkH",
        "outputId": "0424478e-3585-4817-ff8f-dd7e3913c1b2"
      },
      "execution_count": null,
      "outputs": [
        {
          "output_type": "stream",
          "name": "stdout",
          "text": [
            "['YES' 'YES' 'NO' 'NO' 'NO' 'YES' 'YES' 'YES' 'NO' 'YES' 'YES' 'YES' 'NO'\n",
            " 'YES' 'NO' 'YES' 'YES' 'YES' 'YES' 'NO' 'YES' 'YES' 'NO' 'YES' 'YES'\n",
            " 'YES' 'YES' 'NO' 'YES' 'NO' 'NO' 'YES' 'NO' 'YES' 'NO' 'YES' 'YES' 'NO'\n",
            " 'YES' 'YES' 'YES' 'YES' 'YES' 'YES' 'YES' 'YES' 'YES' 'YES' 'YES' 'NO'\n",
            " 'YES' 'YES' 'YES' 'YES' 'YES' 'YES' 'YES' 'YES' 'YES' 'YES' 'YES' 'NO'\n",
            " 'YES' 'YES' 'YES' 'YES' 'YES' 'YES' 'YES' 'YES' 'YES' 'YES' 'YES' 'YES'\n",
            " 'YES' 'YES' 'YES' 'YES' 'YES' 'YES' 'NO' 'YES' 'YES' 'YES' 'YES' 'YES'\n",
            " 'YES' 'YES' 'YES' 'YES' 'YES' 'YES' 'YES' 'YES' 'YES' 'YES' 'YES' 'YES'\n",
            " 'YES' 'YES' 'YES' 'YES' 'YES' 'YES' 'YES' 'YES' 'YES' 'YES' 'YES' 'YES'\n",
            " 'YES' 'YES' 'YES' 'YES' 'YES' 'YES' 'YES' 'YES' 'YES' 'YES' 'YES' 'YES'\n",
            " 'YES' 'YES' 'YES' 'YES' 'YES' 'YES' 'YES' 'NO' 'YES' 'YES' 'YES' 'YES'\n",
            " 'YES' 'YES' 'YES' 'YES' 'YES' 'YES' 'YES' 'YES' 'YES' 'YES' 'YES' 'YES'\n",
            " 'YES' 'YES' 'YES' 'YES' 'YES' 'YES' 'YES' 'NO' 'NO' 'YES' 'NO' 'NO' 'YES'\n",
            " 'NO' 'YES' 'YES' 'YES' 'YES' 'YES' 'YES' 'YES' 'YES' 'YES' 'YES' 'YES'\n",
            " 'NO' 'YES' 'YES' 'YES' 'YES' 'YES' 'YES' 'YES' 'YES' 'YES' 'YES' 'YES'\n",
            " 'NO' 'YES' 'YES' 'YES' 'YES' 'YES' 'YES' 'YES' 'YES' 'YES' 'YES' 'YES'\n",
            " 'YES' 'YES' 'YES' 'YES' 'YES' 'YES' 'YES' 'YES' 'YES' 'YES' 'YES' 'YES'\n",
            " 'NO' 'YES' 'YES' 'YES' 'YES' 'YES' 'YES' 'YES' 'NO' 'YES' 'YES' 'YES'\n",
            " 'YES' 'YES' 'NO' 'YES' 'YES' 'YES' 'YES' 'YES' 'YES' 'YES' 'YES' 'YES'\n",
            " 'YES' 'YES' 'YES' 'YES' 'YES' 'YES' 'YES' 'YES' 'YES' 'YES' 'YES' 'YES'\n",
            " 'YES' 'YES' 'NO' 'YES' 'YES' 'YES' 'NO' 'YES' 'YES' 'YES' 'YES' 'YES'\n",
            " 'YES' 'YES' 'YES' 'YES' 'YES' 'YES' 'YES' 'NO' 'YES' 'YES' 'YES' 'NO'\n",
            " 'YES' 'YES' 'YES' 'NO' 'YES' 'NO' 'YES' 'YES' 'YES' 'YES' 'NO' 'YES'\n",
            " 'YES' 'NO' 'NO' 'NO' 'YES' 'YES' 'YES' 'NO' 'YES' 'YES' 'YES' 'YES' 'YES'\n",
            " 'YES' 'YES' 'YES' 'YES' 'YES' 'YES' 'YES' 'YES' 'YES' 'YES' 'YES' 'YES'\n",
            " 'YES' 'YES' 'YES' 'YES' 'YES']\n"
          ]
        }
      ]
    },
    {
      "cell_type": "markdown",
      "source": [
        "Data preprocessing\n"
      ],
      "metadata": {
        "id": "PBZxNb5qThKB"
      }
    },
    {
      "cell_type": "code",
      "source": [
        "\n",
        "from sklearn.preprocessing import LabelEncoder\n",
        "le0=LabelEncoder()\n",
        "le15=LabelEncoder()\n",
        "x[:,0] = le0.fit_transform(x[:,0])\n",
        "y=le15.fit_transform(y)"
      ],
      "metadata": {
        "id": "hO7ZOEVTTl_k"
      },
      "execution_count": null,
      "outputs": []
    },
    {
      "cell_type": "code",
      "source": [
        "print(x)"
      ],
      "metadata": {
        "colab": {
          "base_uri": "https://localhost:8080/"
        },
        "id": "4hKj1qg5YkLu",
        "outputId": "80f5218f-a35f-4d77-e831-34d267262962"
      },
      "execution_count": null,
      "outputs": [
        {
          "output_type": "stream",
          "name": "stdout",
          "text": [
            "[[1 69 1 ... 2 2 2]\n",
            " [1 74 2 ... 2 2 2]\n",
            " [0 59 1 ... 2 1 2]\n",
            " ...\n",
            " [1 58 2 ... 1 1 2]\n",
            " [1 67 2 ... 2 1 2]\n",
            " [1 62 1 ... 1 2 1]]\n"
          ]
        }
      ]
    },
    {
      "cell_type": "code",
      "source": [
        "print(y)"
      ],
      "metadata": {
        "colab": {
          "base_uri": "https://localhost:8080/"
        },
        "id": "_x61LHwGY456",
        "outputId": "54557dc3-c063-4c4b-f91a-d55b5926f94d"
      },
      "execution_count": null,
      "outputs": [
        {
          "output_type": "stream",
          "name": "stdout",
          "text": [
            "[1 1 0 0 0 1 1 1 0 1 1 1 0 1 0 1 1 1 1 0 1 1 0 1 1 1 1 0 1 0 0 1 0 1 0 1 1\n",
            " 0 1 1 1 1 1 1 1 1 1 1 1 0 1 1 1 1 1 1 1 1 1 1 1 0 1 1 1 1 1 1 1 1 1 1 1 1\n",
            " 1 1 1 1 1 1 0 1 1 1 1 1 1 1 1 1 1 1 1 1 1 1 1 1 1 1 1 1 1 1 1 1 1 1 1 1 1\n",
            " 1 1 1 1 1 1 1 1 1 1 1 1 1 1 1 1 1 1 0 1 1 1 1 1 1 1 1 1 1 1 1 1 1 1 1 1 1\n",
            " 1 1 1 1 1 0 0 1 0 0 1 0 1 1 1 1 1 1 1 1 1 1 1 0 1 1 1 1 1 1 1 1 1 1 1 0 1\n",
            " 1 1 1 1 1 1 1 1 1 1 1 1 1 1 1 1 1 1 1 1 1 1 0 1 1 1 1 1 1 1 0 1 1 1 1 1 0\n",
            " 1 1 1 1 1 1 1 1 1 1 1 1 1 1 1 1 1 1 1 1 1 1 1 0 1 1 1 0 1 1 1 1 1 1 1 1 1\n",
            " 1 1 1 0 1 1 1 0 1 1 1 0 1 0 1 1 1 1 0 1 1 0 0 0 1 1 1 0 1 1 1 1 1 1 1 1 1\n",
            " 1 1 1 1 1 1 1 1 1 1 1 1 1]\n"
          ]
        }
      ]
    },
    {
      "cell_type": "markdown",
      "source": [
        "splitting and training"
      ],
      "metadata": {
        "id": "eRlJ4uE1Y5dT"
      }
    },
    {
      "cell_type": "code",
      "source": [
        "from sklearn.model_selection import train_test_split\n",
        "x_train,x_test,y_train,y_test = train_test_split(x,y,test_size=0.2,random_state=0)"
      ],
      "metadata": {
        "id": "mHHandxlY9tA"
      },
      "execution_count": null,
      "outputs": []
    },
    {
      "cell_type": "code",
      "source": [
        "print(x_train)"
      ],
      "metadata": {
        "colab": {
          "base_uri": "https://localhost:8080/"
        },
        "id": "hw23-0Grctuz",
        "outputId": "2388b7c8-fe69-472d-e15e-5d8c761563da"
      },
      "execution_count": null,
      "outputs": [
        {
          "output_type": "stream",
          "name": "stdout",
          "text": [
            "[[0 51 2 ... 2 2 1]\n",
            " [1 72 2 ... 2 2 2]\n",
            " [1 59 2 ... 2 1 1]\n",
            " ...\n",
            " [0 51 2 ... 2 2 1]\n",
            " [0 64 2 ... 1 2 2]\n",
            " [1 56 1 ... 1 1 1]]\n"
          ]
        }
      ]
    },
    {
      "cell_type": "code",
      "source": [
        "print(y_test)"
      ],
      "metadata": {
        "colab": {
          "base_uri": "https://localhost:8080/"
        },
        "id": "K1KoNwZeczrt",
        "outputId": "f69145aa-172e-48b5-8995-d252eef43e6a"
      },
      "execution_count": null,
      "outputs": [
        {
          "output_type": "stream",
          "name": "stdout",
          "text": [
            "[1 1 1 0 1 1 1 1 1 1 1 1 1 1 0 1 1 1 0 0 1 1 1 1 0 0 1 1 1 1 1 1 1 1 1 1 1\n",
            " 1 1 1 1 1 1 1 1 0 1 1 1 0 1 0 1 1 1 1 1 0 1 1 1 1]\n"
          ]
        }
      ]
    },
    {
      "cell_type": "markdown",
      "source": [
        "feature scaling\n"
      ],
      "metadata": {
        "id": "35xbSulqdMyU"
      }
    },
    {
      "cell_type": "code",
      "source": [
        "from sklearn.preprocessing import StandardScaler\n",
        "sc= StandardScaler()\n",
        "x_train=sc.fit_transform(x_train)\n",
        "x_test=sc.fit_transform(x_test)"
      ],
      "metadata": {
        "id": "i06xwk_CdREt"
      },
      "execution_count": null,
      "outputs": []
    },
    {
      "cell_type": "code",
      "source": [
        "print(x_train)"
      ],
      "metadata": {
        "colab": {
          "base_uri": "https://localhost:8080/"
        },
        "id": "uyEGSvjjeFs0",
        "outputId": "02691f48-4246-456d-d0c5-086745bb2e0c"
      },
      "execution_count": null,
      "outputs": [
        {
          "output_type": "stream",
          "name": "stdout",
          "text": [
            "[[-1.02875329 -1.48758009  0.88146379 ...  0.71787006  1.06269015\n",
            "  -1.12519112]\n",
            " [ 0.97205035  1.14051184  0.88146379 ...  0.71787006  1.06269015\n",
            "   0.88873791]\n",
            " [ 0.97205035 -0.48640221  0.88146379 ...  0.71787006 -0.94100807\n",
            "  -1.12519112]\n",
            " ...\n",
            " [-1.02875329 -1.48758009  0.88146379 ...  0.71787006  1.06269015\n",
            "  -1.12519112]\n",
            " [-1.02875329  0.13933397  0.88146379 ... -1.39300976  1.06269015\n",
            "   0.88873791]\n",
            " [ 0.97205035 -0.86184391 -1.13447655 ... -1.39300976 -0.94100807\n",
            "  -1.12519112]]\n"
          ]
        }
      ]
    },
    {
      "cell_type": "code",
      "source": [
        "print(x_test)"
      ],
      "metadata": {
        "colab": {
          "base_uri": "https://localhost:8080/"
        },
        "id": "m-c_p_rRefRe",
        "outputId": "f7c33c3a-7e29-400e-9ad1-b2e1b9882678"
      },
      "execution_count": null,
      "outputs": [
        {
          "output_type": "stream",
          "name": "stdout",
          "text": [
            "[[-1.13855009  0.69240026 -1.13855009 -1.10194633  0.84983659 -1.\n",
            "   1.10194633 -1.44913767  0.76794765  1.0667385   0.90748521 -1.0667385\n",
            "  -1.13855009  1.0667385  -1.10194633]\n",
            " [ 0.87831007  0.24405753  0.87831007  0.90748521  0.84983659  1.\n",
            "  -0.90748521  0.69006556  0.76794765 -0.93743687  0.90748521  0.93743687\n",
            "   0.87831007 -0.93743687  0.90748521]\n",
            " [ 0.87831007  0.01988617 -1.13855009 -1.10194633 -1.17669681 -1.\n",
            "   1.10194633 -1.44913767  0.76794765 -0.93743687  0.90748521  0.93743687\n",
            "   0.87831007  1.0667385   0.90748521]\n",
            " [ 0.87831007  0.69240026 -1.13855009 -1.10194633  0.84983659  1.\n",
            "   1.10194633 -1.44913767 -1.3021721  -0.93743687  0.90748521 -1.0667385\n",
            "  -1.13855009 -0.93743687 -1.10194633]\n",
            " [-1.13855009  0.58031458  0.87831007  0.90748521  0.84983659  1.\n",
            "  -0.90748521  0.69006556 -1.3021721  -0.93743687 -1.10194633 -1.0667385\n",
            "  -1.13855009 -0.93743687 -1.10194633]\n",
            " [-1.13855009  0.35614321  0.87831007  0.90748521  0.84983659  1.\n",
            "  -0.90748521  0.69006556 -1.3021721   1.0667385  -1.10194633  0.93743687\n",
            "   0.87831007  1.0667385  -1.10194633]\n",
            " [-1.13855009 -0.7647136   0.87831007  0.90748521  0.84983659  1.\n",
            "   1.10194633  0.69006556 -1.3021721   1.0667385  -1.10194633  0.93743687\n",
            "   0.87831007  1.0667385  -1.10194633]\n",
            " [-1.13855009  1.0286573   0.87831007  0.90748521  0.84983659  1.\n",
            "   1.10194633  0.69006556 -1.3021721   1.0667385  -1.10194633  0.93743687\n",
            "  -1.13855009  1.0667385   0.90748521]\n",
            " [-1.13855009 -0.09219951  0.87831007  0.90748521  0.84983659 -1.\n",
            "  -0.90748521  0.69006556  0.76794765 -0.93743687  0.90748521 -1.0667385\n",
            "   0.87831007  1.0667385   0.90748521]\n",
            " [-1.13855009 -0.65262792 -1.13855009  0.90748521 -1.17669681 -1.\n",
            "   1.10194633  0.69006556  0.76794765  1.0667385  -1.10194633  0.93743687\n",
            "   0.87831007 -0.93743687  0.90748521]\n",
            " [ 0.87831007  0.24405753 -1.13855009  0.90748521  0.84983659  1.\n",
            "  -0.90748521 -1.44913767  0.76794765 -0.93743687  0.90748521 -1.0667385\n",
            "  -1.13855009  1.0667385   0.90748521]\n",
            " [-1.13855009  0.01988617 -1.13855009 -1.10194633 -1.17669681  1.\n",
            "  -0.90748521 -1.44913767 -1.3021721   1.0667385   0.90748521 -1.0667385\n",
            "  -1.13855009  1.0667385   0.90748521]\n",
            " [-1.13855009 -0.65262792  0.87831007  0.90748521  0.84983659 -1.\n",
            "  -0.90748521  0.69006556  0.76794765 -0.93743687 -1.10194633 -1.0667385\n",
            "   0.87831007 -0.93743687  0.90748521]\n",
            " [ 0.87831007 -1.10097065 -1.13855009  0.90748521  0.84983659 -1.\n",
            "   1.10194633 -1.44913767  0.76794765  1.0667385   0.90748521  0.93743687\n",
            "  -1.13855009  1.0667385  -1.10194633]\n",
            " [-1.13855009 -4.57562678  0.87831007 -1.10194633 -1.17669681 -1.\n",
            "   1.10194633  0.69006556  0.76794765 -0.93743687 -1.10194633 -1.0667385\n",
            "   0.87831007 -0.93743687 -1.10194633]\n",
            " [ 0.87831007  0.58031458  0.87831007 -1.10194633  0.84983659 -1.\n",
            "  -0.90748521  0.69006556  0.76794765 -0.93743687  0.90748521  0.93743687\n",
            "   0.87831007 -0.93743687  0.90748521]\n",
            " [ 0.87831007 -0.31637088  0.87831007 -1.10194633 -1.17669681 -1.\n",
            "  -0.90748521  0.69006556  0.76794765  1.0667385   0.90748521  0.93743687\n",
            "   0.87831007 -0.93743687  0.90748521]\n",
            " [-1.13855009 -1.43722769 -1.13855009  0.90748521  0.84983659 -1.\n",
            "  -0.90748521 -1.44913767 -1.3021721  -0.93743687 -1.10194633  0.93743687\n",
            "  -1.13855009 -0.93743687 -1.10194633]\n",
            " [ 0.87831007 -0.09219951 -1.13855009 -1.10194633  0.84983659  1.\n",
            "   1.10194633 -1.44913767 -1.3021721  -0.93743687  0.90748521 -1.0667385\n",
            "  -1.13855009 -0.93743687 -1.10194633]\n",
            " [ 0.87831007  0.69240026  0.87831007 -1.10194633  0.84983659 -1.\n",
            "  -0.90748521  0.69006556 -1.3021721  -0.93743687 -1.10194633 -1.0667385\n",
            "  -1.13855009 -0.93743687 -1.10194633]\n",
            " [ 0.87831007  0.35614321  0.87831007  0.90748521  0.84983659  1.\n",
            "   1.10194633 -1.44913767 -1.3021721  -0.93743687 -1.10194633 -1.0667385\n",
            "  -1.13855009 -0.93743687 -1.10194633]\n",
            " [-1.13855009 -1.54931337 -1.13855009  0.90748521  0.84983659  1.\n",
            "   1.10194633  0.69006556  0.76794765  1.0667385  -1.10194633  0.93743687\n",
            "   0.87831007  1.0667385  -1.10194633]\n",
            " [-1.13855009 -0.7647136   0.87831007 -1.10194633 -1.17669681  1.\n",
            "   1.10194633  0.69006556  0.76794765  1.0667385   0.90748521 -1.0667385\n",
            "  -1.13855009  1.0667385   0.90748521]\n",
            " [ 0.87831007  0.91657162 -1.13855009  0.90748521 -1.17669681  1.\n",
            "   1.10194633  0.69006556  0.76794765  1.0667385   0.90748521  0.93743687\n",
            "  -1.13855009  1.0667385   0.90748521]\n",
            " [-1.13855009  0.01988617 -1.13855009 -1.10194633 -1.17669681 -1.\n",
            "   1.10194633  0.69006556 -1.3021721  -0.93743687 -1.10194633 -1.0667385\n",
            "   0.87831007 -0.93743687 -1.10194633]\n",
            " [-1.13855009 -0.20428519  0.87831007 -1.10194633 -1.17669681 -1.\n",
            "  -0.90748521  0.69006556 -1.3021721  -0.93743687 -1.10194633 -1.0667385\n",
            "   0.87831007 -0.93743687 -1.10194633]\n",
            " [ 0.87831007 -0.09219951  0.87831007 -1.10194633 -1.17669681 -1.\n",
            "  -0.90748521  0.69006556  0.76794765  1.0667385   0.90748521  0.93743687\n",
            "   0.87831007 -0.93743687  0.90748521]\n",
            " [-1.13855009  1.47700003 -1.13855009  0.90748521  0.84983659  1.\n",
            "  -0.90748521 -1.44913767  0.76794765  1.0667385  -1.10194633  0.93743687\n",
            "  -1.13855009  1.0667385  -1.10194633]\n",
            " [-1.13855009 -1.43722769 -1.13855009 -1.10194633 -1.17669681  1.\n",
            "   1.10194633 -1.44913767  0.76794765 -0.93743687  0.90748521  0.93743687\n",
            "   0.87831007 -0.93743687 -1.10194633]\n",
            " [-1.13855009 -0.87679928  0.87831007  0.90748521  0.84983659  1.\n",
            "   1.10194633  0.69006556 -1.3021721  -0.93743687 -1.10194633 -1.0667385\n",
            "   0.87831007  1.0667385  -1.10194633]\n",
            " [ 0.87831007  0.58031458 -1.13855009  0.90748521  0.84983659  1.\n",
            "  -0.90748521  0.69006556  0.76794765 -0.93743687 -1.10194633  0.93743687\n",
            "  -1.13855009  1.0667385  -1.10194633]\n",
            " [ 0.87831007  0.24405753 -1.13855009  0.90748521  0.84983659  1.\n",
            "  -0.90748521 -1.44913767  0.76794765 -0.93743687  0.90748521 -1.0667385\n",
            "  -1.13855009  1.0667385   0.90748521]\n",
            " [ 0.87831007 -0.20428519  0.87831007 -1.10194633 -1.17669681 -1.\n",
            "  -0.90748521  0.69006556  0.76794765  1.0667385   0.90748521  0.93743687\n",
            "   0.87831007 -0.93743687  0.90748521]\n",
            " [ 0.87831007 -0.31637088 -1.13855009  0.90748521  0.84983659  1.\n",
            "   1.10194633 -1.44913767  0.76794765 -0.93743687  0.90748521 -1.0667385\n",
            "  -1.13855009  1.0667385   0.90748521]\n",
            " [ 0.87831007 -0.54054224  0.87831007 -1.10194633 -1.17669681 -1.\n",
            "  -0.90748521  0.69006556 -1.3021721   1.0667385   0.90748521  0.93743687\n",
            "   0.87831007 -0.93743687  0.90748521]\n",
            " [ 0.87831007  0.01988617  0.87831007  0.90748521  0.84983659 -1.\n",
            "   1.10194633  0.69006556  0.76794765  1.0667385  -1.10194633 -1.0667385\n",
            "   0.87831007 -0.93743687 -1.10194633]\n",
            " [-1.13855009  1.47700003 -1.13855009  0.90748521 -1.17669681  1.\n",
            "   1.10194633  0.69006556  0.76794765 -0.93743687  0.90748521  0.93743687\n",
            "  -1.13855009 -0.93743687 -1.10194633]\n",
            " [ 0.87831007  0.35614321  0.87831007  0.90748521  0.84983659  1.\n",
            "  -0.90748521  0.69006556  0.76794765 -0.93743687 -1.10194633 -1.0667385\n",
            "   0.87831007  1.0667385  -1.10194633]\n",
            " [ 0.87831007  0.80448594 -1.13855009 -1.10194633  0.84983659 -1.\n",
            "  -0.90748521  0.69006556 -1.3021721   1.0667385   0.90748521  0.93743687\n",
            "   0.87831007  1.0667385  -1.10194633]\n",
            " [-1.13855009  0.24405753 -1.13855009 -1.10194633  0.84983659 -1.\n",
            "   1.10194633 -1.44913767  0.76794765  1.0667385   0.90748521 -1.0667385\n",
            "  -1.13855009  1.0667385  -1.10194633]\n",
            " [-1.13855009 -0.87679928  0.87831007 -1.10194633 -1.17669681  1.\n",
            "  -0.90748521  0.69006556  0.76794765  1.0667385   0.90748521  0.93743687\n",
            "  -1.13855009  1.0667385   0.90748521]\n",
            " [ 0.87831007  1.36491435 -1.13855009  0.90748521 -1.17669681  1.\n",
            "  -0.90748521  0.69006556  0.76794765  1.0667385   0.90748521  0.93743687\n",
            "   0.87831007 -0.93743687  0.90748521]\n",
            " [ 0.87831007 -0.7647136   0.87831007 -1.10194633 -1.17669681 -1.\n",
            "  -0.90748521  0.69006556  0.76794765  1.0667385   0.90748521  0.93743687\n",
            "   0.87831007 -0.93743687  0.90748521]\n",
            " [ 0.87831007 -0.54054224  0.87831007  0.90748521  0.84983659  1.\n",
            "   1.10194633 -1.44913767 -1.3021721  -0.93743687  0.90748521 -1.0667385\n",
            "  -1.13855009  1.0667385   0.90748521]\n",
            " [ 0.87831007 -0.42845656  0.87831007 -1.10194633 -1.17669681 -1.\n",
            "  -0.90748521  0.69006556  0.76794765  1.0667385   0.90748521  0.93743687\n",
            "   0.87831007 -0.93743687  0.90748521]\n",
            " [-1.13855009  0.69240026  0.87831007 -1.10194633  0.84983659 -1.\n",
            "  -0.90748521  0.69006556 -1.3021721  -0.93743687 -1.10194633 -1.0667385\n",
            "  -1.13855009 -0.93743687 -1.10194633]\n",
            " [ 0.87831007  0.58031458 -1.13855009 -1.10194633 -1.17669681  1.\n",
            "  -0.90748521  0.69006556 -1.3021721   1.0667385  -1.10194633  0.93743687\n",
            "   0.87831007 -0.93743687  0.90748521]\n",
            " [ 0.87831007  0.91657162 -1.13855009 -1.10194633 -1.17669681 -1.\n",
            "   1.10194633  0.69006556  0.76794765 -0.93743687  0.90748521  0.93743687\n",
            "   0.87831007 -0.93743687  0.90748521]\n",
            " [ 0.87831007 -1.21305633 -1.13855009  0.90748521 -1.17669681 -1.\n",
            "   1.10194633  0.69006556  0.76794765  1.0667385   0.90748521  0.93743687\n",
            "   0.87831007 -0.93743687  0.90748521]\n",
            " [ 0.87831007 -1.66139905  0.87831007  0.90748521 -1.17669681 -1.\n",
            "   1.10194633 -1.44913767 -1.3021721  -0.93743687 -1.10194633 -1.0667385\n",
            "  -1.13855009 -0.93743687  0.90748521]\n",
            " [-1.13855009 -0.7647136   0.87831007 -1.10194633 -1.17669681  1.\n",
            "   1.10194633  0.69006556  0.76794765  1.0667385   0.90748521 -1.0667385\n",
            "  -1.13855009  1.0667385   0.90748521]\n",
            " [ 0.87831007 -0.7647136   0.87831007 -1.10194633 -1.17669681 -1.\n",
            "  -0.90748521  0.69006556  0.76794765 -0.93743687 -1.10194633 -1.0667385\n",
            "   0.87831007 -0.93743687  0.90748521]\n",
            " [ 0.87831007  1.58908571  0.87831007 -1.10194633 -1.17669681 -1.\n",
            "  -0.90748521  0.69006556  0.76794765  1.0667385   0.90748521  0.93743687\n",
            "   0.87831007 -0.93743687  0.90748521]\n",
            " [-1.13855009  1.47700003 -1.13855009  0.90748521 -1.17669681 -1.\n",
            "   1.10194633  0.69006556  0.76794765  1.0667385  -1.10194633  0.93743687\n",
            "   0.87831007 -0.93743687 -1.10194633]\n",
            " [ 0.87831007  0.80448594  0.87831007  0.90748521  0.84983659  1.\n",
            "  -0.90748521  0.69006556  0.76794765 -0.93743687  0.90748521  0.93743687\n",
            "   0.87831007 -0.93743687  0.90748521]\n",
            " [-1.13855009  1.36491435  0.87831007  0.90748521  0.84983659  1.\n",
            "  -0.90748521  0.69006556 -1.3021721   1.0667385  -1.10194633  0.93743687\n",
            "   0.87831007  1.0667385  -1.10194633]\n",
            " [ 0.87831007  0.91657162  0.87831007 -1.10194633  0.84983659 -1.\n",
            "  -0.90748521  0.69006556  0.76794765 -0.93743687  0.90748521  0.93743687\n",
            "   0.87831007 -0.93743687  0.90748521]\n",
            " [ 0.87831007 -0.31637088 -1.13855009  0.90748521  0.84983659 -1.\n",
            "  -0.90748521 -1.44913767 -1.3021721  -0.93743687 -1.10194633 -1.0667385\n",
            "  -1.13855009  1.0667385   0.90748521]\n",
            " [ 0.87831007  0.80448594  0.87831007  0.90748521  0.84983659  1.\n",
            "  -0.90748521  0.69006556  0.76794765 -0.93743687 -1.10194633 -1.0667385\n",
            "   0.87831007  1.0667385  -1.10194633]\n",
            " [-1.13855009  0.58031458  0.87831007  0.90748521  0.84983659 -1.\n",
            "   1.10194633 -1.44913767 -1.3021721  -0.93743687 -1.10194633 -1.0667385\n",
            "   0.87831007  1.0667385   0.90748521]\n",
            " [-1.13855009  0.24405753 -1.13855009  0.90748521  0.84983659  1.\n",
            "  -0.90748521 -1.44913767  0.76794765  1.0667385  -1.10194633  0.93743687\n",
            "  -1.13855009  1.0667385  -1.10194633]\n",
            " [ 0.87831007  0.01988617  0.87831007  0.90748521  0.84983659  1.\n",
            "   1.10194633 -1.44913767 -1.3021721  -0.93743687  0.90748521 -1.0667385\n",
            "  -1.13855009  1.0667385   0.90748521]]\n"
          ]
        }
      ]
    },
    {
      "cell_type": "markdown",
      "source": [
        "Training Dataset\n"
      ],
      "metadata": {
        "id": "CRTwkjZEeqDW"
      }
    },
    {
      "cell_type": "markdown",
      "source": [
        "\n",
        "\n",
        "---\n",
        "\n"
      ],
      "metadata": {
        "id": "17yXFwqOg2-v"
      }
    },
    {
      "cell_type": "code",
      "source": [
        "#Logistic regression\n",
        "from sklearn.linear_model import LogisticRegression\n",
        "model_logistic=LogisticRegression()\n",
        "model_logistic.fit(x_train,y_train)"
      ],
      "metadata": {
        "colab": {
          "base_uri": "https://localhost:8080/",
          "height": 74
        },
        "id": "ztLAOrKhem_0",
        "outputId": "b16b4730-d4ac-49e5-96b4-389c4cffa69d",
        "collapsed": true
      },
      "execution_count": null,
      "outputs": [
        {
          "output_type": "execute_result",
          "data": {
            "text/plain": [
              "LogisticRegression()"
            ],
            "text/html": [
              "<style>#sk-container-id-1 {color: black;background-color: white;}#sk-container-id-1 pre{padding: 0;}#sk-container-id-1 div.sk-toggleable {background-color: white;}#sk-container-id-1 label.sk-toggleable__label {cursor: pointer;display: block;width: 100%;margin-bottom: 0;padding: 0.3em;box-sizing: border-box;text-align: center;}#sk-container-id-1 label.sk-toggleable__label-arrow:before {content: \"▸\";float: left;margin-right: 0.25em;color: #696969;}#sk-container-id-1 label.sk-toggleable__label-arrow:hover:before {color: black;}#sk-container-id-1 div.sk-estimator:hover label.sk-toggleable__label-arrow:before {color: black;}#sk-container-id-1 div.sk-toggleable__content {max-height: 0;max-width: 0;overflow: hidden;text-align: left;background-color: #f0f8ff;}#sk-container-id-1 div.sk-toggleable__content pre {margin: 0.2em;color: black;border-radius: 0.25em;background-color: #f0f8ff;}#sk-container-id-1 input.sk-toggleable__control:checked~div.sk-toggleable__content {max-height: 200px;max-width: 100%;overflow: auto;}#sk-container-id-1 input.sk-toggleable__control:checked~label.sk-toggleable__label-arrow:before {content: \"▾\";}#sk-container-id-1 div.sk-estimator input.sk-toggleable__control:checked~label.sk-toggleable__label {background-color: #d4ebff;}#sk-container-id-1 div.sk-label input.sk-toggleable__control:checked~label.sk-toggleable__label {background-color: #d4ebff;}#sk-container-id-1 input.sk-hidden--visually {border: 0;clip: rect(1px 1px 1px 1px);clip: rect(1px, 1px, 1px, 1px);height: 1px;margin: -1px;overflow: hidden;padding: 0;position: absolute;width: 1px;}#sk-container-id-1 div.sk-estimator {font-family: monospace;background-color: #f0f8ff;border: 1px dotted black;border-radius: 0.25em;box-sizing: border-box;margin-bottom: 0.5em;}#sk-container-id-1 div.sk-estimator:hover {background-color: #d4ebff;}#sk-container-id-1 div.sk-parallel-item::after {content: \"\";width: 100%;border-bottom: 1px solid gray;flex-grow: 1;}#sk-container-id-1 div.sk-label:hover label.sk-toggleable__label {background-color: #d4ebff;}#sk-container-id-1 div.sk-serial::before {content: \"\";position: absolute;border-left: 1px solid gray;box-sizing: border-box;top: 0;bottom: 0;left: 50%;z-index: 0;}#sk-container-id-1 div.sk-serial {display: flex;flex-direction: column;align-items: center;background-color: white;padding-right: 0.2em;padding-left: 0.2em;position: relative;}#sk-container-id-1 div.sk-item {position: relative;z-index: 1;}#sk-container-id-1 div.sk-parallel {display: flex;align-items: stretch;justify-content: center;background-color: white;position: relative;}#sk-container-id-1 div.sk-item::before, #sk-container-id-1 div.sk-parallel-item::before {content: \"\";position: absolute;border-left: 1px solid gray;box-sizing: border-box;top: 0;bottom: 0;left: 50%;z-index: -1;}#sk-container-id-1 div.sk-parallel-item {display: flex;flex-direction: column;z-index: 1;position: relative;background-color: white;}#sk-container-id-1 div.sk-parallel-item:first-child::after {align-self: flex-end;width: 50%;}#sk-container-id-1 div.sk-parallel-item:last-child::after {align-self: flex-start;width: 50%;}#sk-container-id-1 div.sk-parallel-item:only-child::after {width: 0;}#sk-container-id-1 div.sk-dashed-wrapped {border: 1px dashed gray;margin: 0 0.4em 0.5em 0.4em;box-sizing: border-box;padding-bottom: 0.4em;background-color: white;}#sk-container-id-1 div.sk-label label {font-family: monospace;font-weight: bold;display: inline-block;line-height: 1.2em;}#sk-container-id-1 div.sk-label-container {text-align: center;}#sk-container-id-1 div.sk-container {/* jupyter's `normalize.less` sets `[hidden] { display: none; }` but bootstrap.min.css set `[hidden] { display: none !important; }` so we also need the `!important` here to be able to override the default hidden behavior on the sphinx rendered scikit-learn.org. See: https://github.com/scikit-learn/scikit-learn/issues/21755 */display: inline-block !important;position: relative;}#sk-container-id-1 div.sk-text-repr-fallback {display: none;}</style><div id=\"sk-container-id-1\" class=\"sk-top-container\"><div class=\"sk-text-repr-fallback\"><pre>LogisticRegression()</pre><b>In a Jupyter environment, please rerun this cell to show the HTML representation or trust the notebook. <br />On GitHub, the HTML representation is unable to render, please try loading this page with nbviewer.org.</b></div><div class=\"sk-container\" hidden><div class=\"sk-item\"><div class=\"sk-estimator sk-toggleable\"><input class=\"sk-toggleable__control sk-hidden--visually\" id=\"sk-estimator-id-1\" type=\"checkbox\" checked><label for=\"sk-estimator-id-1\" class=\"sk-toggleable__label sk-toggleable__label-arrow\">LogisticRegression</label><div class=\"sk-toggleable__content\"><pre>LogisticRegression()</pre></div></div></div></div></div>"
            ]
          },
          "metadata": {},
          "execution_count": 14
        }
      ]
    },
    {
      "cell_type": "code",
      "source": [
        "#SVM\n",
        "from sklearn.svm import SVC\n",
        "model_svm =SVC()\n",
        "model_svm.fit(x_train,y_train)"
      ],
      "metadata": {
        "colab": {
          "base_uri": "https://localhost:8080/",
          "height": 74
        },
        "id": "NeB4L6-vhKtk",
        "outputId": "98959807-065b-4bdb-9c2a-612e4028a1e2",
        "collapsed": true
      },
      "execution_count": null,
      "outputs": [
        {
          "output_type": "execute_result",
          "data": {
            "text/plain": [
              "SVC()"
            ],
            "text/html": [
              "<style>#sk-container-id-2 {color: black;background-color: white;}#sk-container-id-2 pre{padding: 0;}#sk-container-id-2 div.sk-toggleable {background-color: white;}#sk-container-id-2 label.sk-toggleable__label {cursor: pointer;display: block;width: 100%;margin-bottom: 0;padding: 0.3em;box-sizing: border-box;text-align: center;}#sk-container-id-2 label.sk-toggleable__label-arrow:before {content: \"▸\";float: left;margin-right: 0.25em;color: #696969;}#sk-container-id-2 label.sk-toggleable__label-arrow:hover:before {color: black;}#sk-container-id-2 div.sk-estimator:hover label.sk-toggleable__label-arrow:before {color: black;}#sk-container-id-2 div.sk-toggleable__content {max-height: 0;max-width: 0;overflow: hidden;text-align: left;background-color: #f0f8ff;}#sk-container-id-2 div.sk-toggleable__content pre {margin: 0.2em;color: black;border-radius: 0.25em;background-color: #f0f8ff;}#sk-container-id-2 input.sk-toggleable__control:checked~div.sk-toggleable__content {max-height: 200px;max-width: 100%;overflow: auto;}#sk-container-id-2 input.sk-toggleable__control:checked~label.sk-toggleable__label-arrow:before {content: \"▾\";}#sk-container-id-2 div.sk-estimator input.sk-toggleable__control:checked~label.sk-toggleable__label {background-color: #d4ebff;}#sk-container-id-2 div.sk-label input.sk-toggleable__control:checked~label.sk-toggleable__label {background-color: #d4ebff;}#sk-container-id-2 input.sk-hidden--visually {border: 0;clip: rect(1px 1px 1px 1px);clip: rect(1px, 1px, 1px, 1px);height: 1px;margin: -1px;overflow: hidden;padding: 0;position: absolute;width: 1px;}#sk-container-id-2 div.sk-estimator {font-family: monospace;background-color: #f0f8ff;border: 1px dotted black;border-radius: 0.25em;box-sizing: border-box;margin-bottom: 0.5em;}#sk-container-id-2 div.sk-estimator:hover {background-color: #d4ebff;}#sk-container-id-2 div.sk-parallel-item::after {content: \"\";width: 100%;border-bottom: 1px solid gray;flex-grow: 1;}#sk-container-id-2 div.sk-label:hover label.sk-toggleable__label {background-color: #d4ebff;}#sk-container-id-2 div.sk-serial::before {content: \"\";position: absolute;border-left: 1px solid gray;box-sizing: border-box;top: 0;bottom: 0;left: 50%;z-index: 0;}#sk-container-id-2 div.sk-serial {display: flex;flex-direction: column;align-items: center;background-color: white;padding-right: 0.2em;padding-left: 0.2em;position: relative;}#sk-container-id-2 div.sk-item {position: relative;z-index: 1;}#sk-container-id-2 div.sk-parallel {display: flex;align-items: stretch;justify-content: center;background-color: white;position: relative;}#sk-container-id-2 div.sk-item::before, #sk-container-id-2 div.sk-parallel-item::before {content: \"\";position: absolute;border-left: 1px solid gray;box-sizing: border-box;top: 0;bottom: 0;left: 50%;z-index: -1;}#sk-container-id-2 div.sk-parallel-item {display: flex;flex-direction: column;z-index: 1;position: relative;background-color: white;}#sk-container-id-2 div.sk-parallel-item:first-child::after {align-self: flex-end;width: 50%;}#sk-container-id-2 div.sk-parallel-item:last-child::after {align-self: flex-start;width: 50%;}#sk-container-id-2 div.sk-parallel-item:only-child::after {width: 0;}#sk-container-id-2 div.sk-dashed-wrapped {border: 1px dashed gray;margin: 0 0.4em 0.5em 0.4em;box-sizing: border-box;padding-bottom: 0.4em;background-color: white;}#sk-container-id-2 div.sk-label label {font-family: monospace;font-weight: bold;display: inline-block;line-height: 1.2em;}#sk-container-id-2 div.sk-label-container {text-align: center;}#sk-container-id-2 div.sk-container {/* jupyter's `normalize.less` sets `[hidden] { display: none; }` but bootstrap.min.css set `[hidden] { display: none !important; }` so we also need the `!important` here to be able to override the default hidden behavior on the sphinx rendered scikit-learn.org. See: https://github.com/scikit-learn/scikit-learn/issues/21755 */display: inline-block !important;position: relative;}#sk-container-id-2 div.sk-text-repr-fallback {display: none;}</style><div id=\"sk-container-id-2\" class=\"sk-top-container\"><div class=\"sk-text-repr-fallback\"><pre>SVC()</pre><b>In a Jupyter environment, please rerun this cell to show the HTML representation or trust the notebook. <br />On GitHub, the HTML representation is unable to render, please try loading this page with nbviewer.org.</b></div><div class=\"sk-container\" hidden><div class=\"sk-item\"><div class=\"sk-estimator sk-toggleable\"><input class=\"sk-toggleable__control sk-hidden--visually\" id=\"sk-estimator-id-2\" type=\"checkbox\" checked><label for=\"sk-estimator-id-2\" class=\"sk-toggleable__label sk-toggleable__label-arrow\">SVC</label><div class=\"sk-toggleable__content\"><pre>SVC()</pre></div></div></div></div></div>"
            ]
          },
          "metadata": {},
          "execution_count": 15
        }
      ]
    },
    {
      "cell_type": "code",
      "source": [
        "#Kneighbors\n",
        "from sklearn.neighbors import KNeighborsClassifier\n",
        "model_kneighbors = KNeighborsClassifier()#n_neighbors=10\n",
        "model_kneighbors.fit(x_train,y_train)"
      ],
      "metadata": {
        "colab": {
          "base_uri": "https://localhost:8080/",
          "height": 74
        },
        "id": "s3oa4QB4jKKh",
        "outputId": "362806ef-f8e8-4760-9d80-cca7dbb76173",
        "collapsed": true
      },
      "execution_count": 39,
      "outputs": [
        {
          "output_type": "execute_result",
          "data": {
            "text/plain": [
              "KNeighborsClassifier()"
            ],
            "text/html": [
              "<style>#sk-container-id-8 {color: black;background-color: white;}#sk-container-id-8 pre{padding: 0;}#sk-container-id-8 div.sk-toggleable {background-color: white;}#sk-container-id-8 label.sk-toggleable__label {cursor: pointer;display: block;width: 100%;margin-bottom: 0;padding: 0.3em;box-sizing: border-box;text-align: center;}#sk-container-id-8 label.sk-toggleable__label-arrow:before {content: \"▸\";float: left;margin-right: 0.25em;color: #696969;}#sk-container-id-8 label.sk-toggleable__label-arrow:hover:before {color: black;}#sk-container-id-8 div.sk-estimator:hover label.sk-toggleable__label-arrow:before {color: black;}#sk-container-id-8 div.sk-toggleable__content {max-height: 0;max-width: 0;overflow: hidden;text-align: left;background-color: #f0f8ff;}#sk-container-id-8 div.sk-toggleable__content pre {margin: 0.2em;color: black;border-radius: 0.25em;background-color: #f0f8ff;}#sk-container-id-8 input.sk-toggleable__control:checked~div.sk-toggleable__content {max-height: 200px;max-width: 100%;overflow: auto;}#sk-container-id-8 input.sk-toggleable__control:checked~label.sk-toggleable__label-arrow:before {content: \"▾\";}#sk-container-id-8 div.sk-estimator input.sk-toggleable__control:checked~label.sk-toggleable__label {background-color: #d4ebff;}#sk-container-id-8 div.sk-label input.sk-toggleable__control:checked~label.sk-toggleable__label {background-color: #d4ebff;}#sk-container-id-8 input.sk-hidden--visually {border: 0;clip: rect(1px 1px 1px 1px);clip: rect(1px, 1px, 1px, 1px);height: 1px;margin: -1px;overflow: hidden;padding: 0;position: absolute;width: 1px;}#sk-container-id-8 div.sk-estimator {font-family: monospace;background-color: #f0f8ff;border: 1px dotted black;border-radius: 0.25em;box-sizing: border-box;margin-bottom: 0.5em;}#sk-container-id-8 div.sk-estimator:hover {background-color: #d4ebff;}#sk-container-id-8 div.sk-parallel-item::after {content: \"\";width: 100%;border-bottom: 1px solid gray;flex-grow: 1;}#sk-container-id-8 div.sk-label:hover label.sk-toggleable__label {background-color: #d4ebff;}#sk-container-id-8 div.sk-serial::before {content: \"\";position: absolute;border-left: 1px solid gray;box-sizing: border-box;top: 0;bottom: 0;left: 50%;z-index: 0;}#sk-container-id-8 div.sk-serial {display: flex;flex-direction: column;align-items: center;background-color: white;padding-right: 0.2em;padding-left: 0.2em;position: relative;}#sk-container-id-8 div.sk-item {position: relative;z-index: 1;}#sk-container-id-8 div.sk-parallel {display: flex;align-items: stretch;justify-content: center;background-color: white;position: relative;}#sk-container-id-8 div.sk-item::before, #sk-container-id-8 div.sk-parallel-item::before {content: \"\";position: absolute;border-left: 1px solid gray;box-sizing: border-box;top: 0;bottom: 0;left: 50%;z-index: -1;}#sk-container-id-8 div.sk-parallel-item {display: flex;flex-direction: column;z-index: 1;position: relative;background-color: white;}#sk-container-id-8 div.sk-parallel-item:first-child::after {align-self: flex-end;width: 50%;}#sk-container-id-8 div.sk-parallel-item:last-child::after {align-self: flex-start;width: 50%;}#sk-container-id-8 div.sk-parallel-item:only-child::after {width: 0;}#sk-container-id-8 div.sk-dashed-wrapped {border: 1px dashed gray;margin: 0 0.4em 0.5em 0.4em;box-sizing: border-box;padding-bottom: 0.4em;background-color: white;}#sk-container-id-8 div.sk-label label {font-family: monospace;font-weight: bold;display: inline-block;line-height: 1.2em;}#sk-container-id-8 div.sk-label-container {text-align: center;}#sk-container-id-8 div.sk-container {/* jupyter's `normalize.less` sets `[hidden] { display: none; }` but bootstrap.min.css set `[hidden] { display: none !important; }` so we also need the `!important` here to be able to override the default hidden behavior on the sphinx rendered scikit-learn.org. See: https://github.com/scikit-learn/scikit-learn/issues/21755 */display: inline-block !important;position: relative;}#sk-container-id-8 div.sk-text-repr-fallback {display: none;}</style><div id=\"sk-container-id-8\" class=\"sk-top-container\"><div class=\"sk-text-repr-fallback\"><pre>KNeighborsClassifier()</pre><b>In a Jupyter environment, please rerun this cell to show the HTML representation or trust the notebook. <br />On GitHub, the HTML representation is unable to render, please try loading this page with nbviewer.org.</b></div><div class=\"sk-container\" hidden><div class=\"sk-item\"><div class=\"sk-estimator sk-toggleable\"><input class=\"sk-toggleable__control sk-hidden--visually\" id=\"sk-estimator-id-8\" type=\"checkbox\" checked><label for=\"sk-estimator-id-8\" class=\"sk-toggleable__label sk-toggleable__label-arrow\">KNeighborsClassifier</label><div class=\"sk-toggleable__content\"><pre>KNeighborsClassifier()</pre></div></div></div></div></div>"
            ]
          },
          "metadata": {},
          "execution_count": 39
        }
      ]
    },
    {
      "cell_type": "code",
      "source": [
        "#DecisionTree\n",
        "from sklearn.tree import DecisionTreeClassifier\n",
        "model_tree = DecisionTreeClassifier()\n",
        "model_tree.fit(x_train,y_train)\n"
      ],
      "metadata": {
        "colab": {
          "base_uri": "https://localhost:8080/",
          "height": 74
        },
        "id": "kb5vJua0lvZN",
        "outputId": "4969e137-d39e-4033-f0b5-a18e6448dfc3",
        "collapsed": true
      },
      "execution_count": null,
      "outputs": [
        {
          "output_type": "execute_result",
          "data": {
            "text/plain": [
              "DecisionTreeClassifier()"
            ],
            "text/html": [
              "<style>#sk-container-id-5 {color: black;background-color: white;}#sk-container-id-5 pre{padding: 0;}#sk-container-id-5 div.sk-toggleable {background-color: white;}#sk-container-id-5 label.sk-toggleable__label {cursor: pointer;display: block;width: 100%;margin-bottom: 0;padding: 0.3em;box-sizing: border-box;text-align: center;}#sk-container-id-5 label.sk-toggleable__label-arrow:before {content: \"▸\";float: left;margin-right: 0.25em;color: #696969;}#sk-container-id-5 label.sk-toggleable__label-arrow:hover:before {color: black;}#sk-container-id-5 div.sk-estimator:hover label.sk-toggleable__label-arrow:before {color: black;}#sk-container-id-5 div.sk-toggleable__content {max-height: 0;max-width: 0;overflow: hidden;text-align: left;background-color: #f0f8ff;}#sk-container-id-5 div.sk-toggleable__content pre {margin: 0.2em;color: black;border-radius: 0.25em;background-color: #f0f8ff;}#sk-container-id-5 input.sk-toggleable__control:checked~div.sk-toggleable__content {max-height: 200px;max-width: 100%;overflow: auto;}#sk-container-id-5 input.sk-toggleable__control:checked~label.sk-toggleable__label-arrow:before {content: \"▾\";}#sk-container-id-5 div.sk-estimator input.sk-toggleable__control:checked~label.sk-toggleable__label {background-color: #d4ebff;}#sk-container-id-5 div.sk-label input.sk-toggleable__control:checked~label.sk-toggleable__label {background-color: #d4ebff;}#sk-container-id-5 input.sk-hidden--visually {border: 0;clip: rect(1px 1px 1px 1px);clip: rect(1px, 1px, 1px, 1px);height: 1px;margin: -1px;overflow: hidden;padding: 0;position: absolute;width: 1px;}#sk-container-id-5 div.sk-estimator {font-family: monospace;background-color: #f0f8ff;border: 1px dotted black;border-radius: 0.25em;box-sizing: border-box;margin-bottom: 0.5em;}#sk-container-id-5 div.sk-estimator:hover {background-color: #d4ebff;}#sk-container-id-5 div.sk-parallel-item::after {content: \"\";width: 100%;border-bottom: 1px solid gray;flex-grow: 1;}#sk-container-id-5 div.sk-label:hover label.sk-toggleable__label {background-color: #d4ebff;}#sk-container-id-5 div.sk-serial::before {content: \"\";position: absolute;border-left: 1px solid gray;box-sizing: border-box;top: 0;bottom: 0;left: 50%;z-index: 0;}#sk-container-id-5 div.sk-serial {display: flex;flex-direction: column;align-items: center;background-color: white;padding-right: 0.2em;padding-left: 0.2em;position: relative;}#sk-container-id-5 div.sk-item {position: relative;z-index: 1;}#sk-container-id-5 div.sk-parallel {display: flex;align-items: stretch;justify-content: center;background-color: white;position: relative;}#sk-container-id-5 div.sk-item::before, #sk-container-id-5 div.sk-parallel-item::before {content: \"\";position: absolute;border-left: 1px solid gray;box-sizing: border-box;top: 0;bottom: 0;left: 50%;z-index: -1;}#sk-container-id-5 div.sk-parallel-item {display: flex;flex-direction: column;z-index: 1;position: relative;background-color: white;}#sk-container-id-5 div.sk-parallel-item:first-child::after {align-self: flex-end;width: 50%;}#sk-container-id-5 div.sk-parallel-item:last-child::after {align-self: flex-start;width: 50%;}#sk-container-id-5 div.sk-parallel-item:only-child::after {width: 0;}#sk-container-id-5 div.sk-dashed-wrapped {border: 1px dashed gray;margin: 0 0.4em 0.5em 0.4em;box-sizing: border-box;padding-bottom: 0.4em;background-color: white;}#sk-container-id-5 div.sk-label label {font-family: monospace;font-weight: bold;display: inline-block;line-height: 1.2em;}#sk-container-id-5 div.sk-label-container {text-align: center;}#sk-container-id-5 div.sk-container {/* jupyter's `normalize.less` sets `[hidden] { display: none; }` but bootstrap.min.css set `[hidden] { display: none !important; }` so we also need the `!important` here to be able to override the default hidden behavior on the sphinx rendered scikit-learn.org. See: https://github.com/scikit-learn/scikit-learn/issues/21755 */display: inline-block !important;position: relative;}#sk-container-id-5 div.sk-text-repr-fallback {display: none;}</style><div id=\"sk-container-id-5\" class=\"sk-top-container\"><div class=\"sk-text-repr-fallback\"><pre>DecisionTreeClassifier()</pre><b>In a Jupyter environment, please rerun this cell to show the HTML representation or trust the notebook. <br />On GitHub, the HTML representation is unable to render, please try loading this page with nbviewer.org.</b></div><div class=\"sk-container\" hidden><div class=\"sk-item\"><div class=\"sk-estimator sk-toggleable\"><input class=\"sk-toggleable__control sk-hidden--visually\" id=\"sk-estimator-id-5\" type=\"checkbox\" checked><label for=\"sk-estimator-id-5\" class=\"sk-toggleable__label sk-toggleable__label-arrow\">DecisionTreeClassifier</label><div class=\"sk-toggleable__content\"><pre>DecisionTreeClassifier()</pre></div></div></div></div></div>"
            ]
          },
          "metadata": {},
          "execution_count": 18
        }
      ]
    },
    {
      "cell_type": "code",
      "source": [
        "#randomforest\n",
        "from sklearn.ensemble import RandomForestClassifier\n",
        "model_forest = RandomForestClassifier()\n",
        "model_forest.fit(x_train,y_train)"
      ],
      "metadata": {
        "colab": {
          "base_uri": "https://localhost:8080/",
          "height": 74
        },
        "id": "DHG0riyA5OuP",
        "outputId": "5d0cf298-0f52-42ef-be3b-459bc731e162",
        "collapsed": true
      },
      "execution_count": null,
      "outputs": [
        {
          "output_type": "execute_result",
          "data": {
            "text/plain": [
              "RandomForestClassifier()"
            ],
            "text/html": [
              "<style>#sk-container-id-6 {color: black;background-color: white;}#sk-container-id-6 pre{padding: 0;}#sk-container-id-6 div.sk-toggleable {background-color: white;}#sk-container-id-6 label.sk-toggleable__label {cursor: pointer;display: block;width: 100%;margin-bottom: 0;padding: 0.3em;box-sizing: border-box;text-align: center;}#sk-container-id-6 label.sk-toggleable__label-arrow:before {content: \"▸\";float: left;margin-right: 0.25em;color: #696969;}#sk-container-id-6 label.sk-toggleable__label-arrow:hover:before {color: black;}#sk-container-id-6 div.sk-estimator:hover label.sk-toggleable__label-arrow:before {color: black;}#sk-container-id-6 div.sk-toggleable__content {max-height: 0;max-width: 0;overflow: hidden;text-align: left;background-color: #f0f8ff;}#sk-container-id-6 div.sk-toggleable__content pre {margin: 0.2em;color: black;border-radius: 0.25em;background-color: #f0f8ff;}#sk-container-id-6 input.sk-toggleable__control:checked~div.sk-toggleable__content {max-height: 200px;max-width: 100%;overflow: auto;}#sk-container-id-6 input.sk-toggleable__control:checked~label.sk-toggleable__label-arrow:before {content: \"▾\";}#sk-container-id-6 div.sk-estimator input.sk-toggleable__control:checked~label.sk-toggleable__label {background-color: #d4ebff;}#sk-container-id-6 div.sk-label input.sk-toggleable__control:checked~label.sk-toggleable__label {background-color: #d4ebff;}#sk-container-id-6 input.sk-hidden--visually {border: 0;clip: rect(1px 1px 1px 1px);clip: rect(1px, 1px, 1px, 1px);height: 1px;margin: -1px;overflow: hidden;padding: 0;position: absolute;width: 1px;}#sk-container-id-6 div.sk-estimator {font-family: monospace;background-color: #f0f8ff;border: 1px dotted black;border-radius: 0.25em;box-sizing: border-box;margin-bottom: 0.5em;}#sk-container-id-6 div.sk-estimator:hover {background-color: #d4ebff;}#sk-container-id-6 div.sk-parallel-item::after {content: \"\";width: 100%;border-bottom: 1px solid gray;flex-grow: 1;}#sk-container-id-6 div.sk-label:hover label.sk-toggleable__label {background-color: #d4ebff;}#sk-container-id-6 div.sk-serial::before {content: \"\";position: absolute;border-left: 1px solid gray;box-sizing: border-box;top: 0;bottom: 0;left: 50%;z-index: 0;}#sk-container-id-6 div.sk-serial {display: flex;flex-direction: column;align-items: center;background-color: white;padding-right: 0.2em;padding-left: 0.2em;position: relative;}#sk-container-id-6 div.sk-item {position: relative;z-index: 1;}#sk-container-id-6 div.sk-parallel {display: flex;align-items: stretch;justify-content: center;background-color: white;position: relative;}#sk-container-id-6 div.sk-item::before, #sk-container-id-6 div.sk-parallel-item::before {content: \"\";position: absolute;border-left: 1px solid gray;box-sizing: border-box;top: 0;bottom: 0;left: 50%;z-index: -1;}#sk-container-id-6 div.sk-parallel-item {display: flex;flex-direction: column;z-index: 1;position: relative;background-color: white;}#sk-container-id-6 div.sk-parallel-item:first-child::after {align-self: flex-end;width: 50%;}#sk-container-id-6 div.sk-parallel-item:last-child::after {align-self: flex-start;width: 50%;}#sk-container-id-6 div.sk-parallel-item:only-child::after {width: 0;}#sk-container-id-6 div.sk-dashed-wrapped {border: 1px dashed gray;margin: 0 0.4em 0.5em 0.4em;box-sizing: border-box;padding-bottom: 0.4em;background-color: white;}#sk-container-id-6 div.sk-label label {font-family: monospace;font-weight: bold;display: inline-block;line-height: 1.2em;}#sk-container-id-6 div.sk-label-container {text-align: center;}#sk-container-id-6 div.sk-container {/* jupyter's `normalize.less` sets `[hidden] { display: none; }` but bootstrap.min.css set `[hidden] { display: none !important; }` so we also need the `!important` here to be able to override the default hidden behavior on the sphinx rendered scikit-learn.org. See: https://github.com/scikit-learn/scikit-learn/issues/21755 */display: inline-block !important;position: relative;}#sk-container-id-6 div.sk-text-repr-fallback {display: none;}</style><div id=\"sk-container-id-6\" class=\"sk-top-container\"><div class=\"sk-text-repr-fallback\"><pre>RandomForestClassifier()</pre><b>In a Jupyter environment, please rerun this cell to show the HTML representation or trust the notebook. <br />On GitHub, the HTML representation is unable to render, please try loading this page with nbviewer.org.</b></div><div class=\"sk-container\" hidden><div class=\"sk-item\"><div class=\"sk-estimator sk-toggleable\"><input class=\"sk-toggleable__control sk-hidden--visually\" id=\"sk-estimator-id-6\" type=\"checkbox\" checked><label for=\"sk-estimator-id-6\" class=\"sk-toggleable__label sk-toggleable__label-arrow\">RandomForestClassifier</label><div class=\"sk-toggleable__content\"><pre>RandomForestClassifier()</pre></div></div></div></div></div>"
            ]
          },
          "metadata": {},
          "execution_count": 19
        }
      ]
    },
    {
      "cell_type": "code",
      "source": [
        "#XGBoost\n",
        "from xgboost import XGBClassifier\n",
        "model_xg = XGBClassifier()\n",
        "model_xg.fit(x_train,y_train)"
      ],
      "metadata": {
        "colab": {
          "base_uri": "https://localhost:8080/",
          "height": 248
        },
        "collapsed": true,
        "id": "EYdJrXjMg3qQ",
        "outputId": "6ff1d049-8ae5-4f43-8c1a-ab589889f2ec"
      },
      "execution_count": null,
      "outputs": [
        {
          "output_type": "execute_result",
          "data": {
            "text/plain": [
              "XGBClassifier(base_score=None, booster=None, callbacks=None,\n",
              "              colsample_bylevel=None, colsample_bynode=None,\n",
              "              colsample_bytree=None, device=None, early_stopping_rounds=None,\n",
              "              enable_categorical=False, eval_metric=None, feature_types=None,\n",
              "              gamma=None, grow_policy=None, importance_type=None,\n",
              "              interaction_constraints=None, learning_rate=None, max_bin=None,\n",
              "              max_cat_threshold=None, max_cat_to_onehot=None,\n",
              "              max_delta_step=None, max_depth=None, max_leaves=None,\n",
              "              min_child_weight=None, missing=nan, monotone_constraints=None,\n",
              "              multi_strategy=None, n_estimators=None, n_jobs=None,\n",
              "              num_parallel_tree=None, random_state=None, ...)"
            ],
            "text/html": [
              "<style>#sk-container-id-7 {color: black;background-color: white;}#sk-container-id-7 pre{padding: 0;}#sk-container-id-7 div.sk-toggleable {background-color: white;}#sk-container-id-7 label.sk-toggleable__label {cursor: pointer;display: block;width: 100%;margin-bottom: 0;padding: 0.3em;box-sizing: border-box;text-align: center;}#sk-container-id-7 label.sk-toggleable__label-arrow:before {content: \"▸\";float: left;margin-right: 0.25em;color: #696969;}#sk-container-id-7 label.sk-toggleable__label-arrow:hover:before {color: black;}#sk-container-id-7 div.sk-estimator:hover label.sk-toggleable__label-arrow:before {color: black;}#sk-container-id-7 div.sk-toggleable__content {max-height: 0;max-width: 0;overflow: hidden;text-align: left;background-color: #f0f8ff;}#sk-container-id-7 div.sk-toggleable__content pre {margin: 0.2em;color: black;border-radius: 0.25em;background-color: #f0f8ff;}#sk-container-id-7 input.sk-toggleable__control:checked~div.sk-toggleable__content {max-height: 200px;max-width: 100%;overflow: auto;}#sk-container-id-7 input.sk-toggleable__control:checked~label.sk-toggleable__label-arrow:before {content: \"▾\";}#sk-container-id-7 div.sk-estimator input.sk-toggleable__control:checked~label.sk-toggleable__label {background-color: #d4ebff;}#sk-container-id-7 div.sk-label input.sk-toggleable__control:checked~label.sk-toggleable__label {background-color: #d4ebff;}#sk-container-id-7 input.sk-hidden--visually {border: 0;clip: rect(1px 1px 1px 1px);clip: rect(1px, 1px, 1px, 1px);height: 1px;margin: -1px;overflow: hidden;padding: 0;position: absolute;width: 1px;}#sk-container-id-7 div.sk-estimator {font-family: monospace;background-color: #f0f8ff;border: 1px dotted black;border-radius: 0.25em;box-sizing: border-box;margin-bottom: 0.5em;}#sk-container-id-7 div.sk-estimator:hover {background-color: #d4ebff;}#sk-container-id-7 div.sk-parallel-item::after {content: \"\";width: 100%;border-bottom: 1px solid gray;flex-grow: 1;}#sk-container-id-7 div.sk-label:hover label.sk-toggleable__label {background-color: #d4ebff;}#sk-container-id-7 div.sk-serial::before {content: \"\";position: absolute;border-left: 1px solid gray;box-sizing: border-box;top: 0;bottom: 0;left: 50%;z-index: 0;}#sk-container-id-7 div.sk-serial {display: flex;flex-direction: column;align-items: center;background-color: white;padding-right: 0.2em;padding-left: 0.2em;position: relative;}#sk-container-id-7 div.sk-item {position: relative;z-index: 1;}#sk-container-id-7 div.sk-parallel {display: flex;align-items: stretch;justify-content: center;background-color: white;position: relative;}#sk-container-id-7 div.sk-item::before, #sk-container-id-7 div.sk-parallel-item::before {content: \"\";position: absolute;border-left: 1px solid gray;box-sizing: border-box;top: 0;bottom: 0;left: 50%;z-index: -1;}#sk-container-id-7 div.sk-parallel-item {display: flex;flex-direction: column;z-index: 1;position: relative;background-color: white;}#sk-container-id-7 div.sk-parallel-item:first-child::after {align-self: flex-end;width: 50%;}#sk-container-id-7 div.sk-parallel-item:last-child::after {align-self: flex-start;width: 50%;}#sk-container-id-7 div.sk-parallel-item:only-child::after {width: 0;}#sk-container-id-7 div.sk-dashed-wrapped {border: 1px dashed gray;margin: 0 0.4em 0.5em 0.4em;box-sizing: border-box;padding-bottom: 0.4em;background-color: white;}#sk-container-id-7 div.sk-label label {font-family: monospace;font-weight: bold;display: inline-block;line-height: 1.2em;}#sk-container-id-7 div.sk-label-container {text-align: center;}#sk-container-id-7 div.sk-container {/* jupyter's `normalize.less` sets `[hidden] { display: none; }` but bootstrap.min.css set `[hidden] { display: none !important; }` so we also need the `!important` here to be able to override the default hidden behavior on the sphinx rendered scikit-learn.org. See: https://github.com/scikit-learn/scikit-learn/issues/21755 */display: inline-block !important;position: relative;}#sk-container-id-7 div.sk-text-repr-fallback {display: none;}</style><div id=\"sk-container-id-7\" class=\"sk-top-container\"><div class=\"sk-text-repr-fallback\"><pre>XGBClassifier(base_score=None, booster=None, callbacks=None,\n",
              "              colsample_bylevel=None, colsample_bynode=None,\n",
              "              colsample_bytree=None, device=None, early_stopping_rounds=None,\n",
              "              enable_categorical=False, eval_metric=None, feature_types=None,\n",
              "              gamma=None, grow_policy=None, importance_type=None,\n",
              "              interaction_constraints=None, learning_rate=None, max_bin=None,\n",
              "              max_cat_threshold=None, max_cat_to_onehot=None,\n",
              "              max_delta_step=None, max_depth=None, max_leaves=None,\n",
              "              min_child_weight=None, missing=nan, monotone_constraints=None,\n",
              "              multi_strategy=None, n_estimators=None, n_jobs=None,\n",
              "              num_parallel_tree=None, random_state=None, ...)</pre><b>In a Jupyter environment, please rerun this cell to show the HTML representation or trust the notebook. <br />On GitHub, the HTML representation is unable to render, please try loading this page with nbviewer.org.</b></div><div class=\"sk-container\" hidden><div class=\"sk-item\"><div class=\"sk-estimator sk-toggleable\"><input class=\"sk-toggleable__control sk-hidden--visually\" id=\"sk-estimator-id-7\" type=\"checkbox\" checked><label for=\"sk-estimator-id-7\" class=\"sk-toggleable__label sk-toggleable__label-arrow\">XGBClassifier</label><div class=\"sk-toggleable__content\"><pre>XGBClassifier(base_score=None, booster=None, callbacks=None,\n",
              "              colsample_bylevel=None, colsample_bynode=None,\n",
              "              colsample_bytree=None, device=None, early_stopping_rounds=None,\n",
              "              enable_categorical=False, eval_metric=None, feature_types=None,\n",
              "              gamma=None, grow_policy=None, importance_type=None,\n",
              "              interaction_constraints=None, learning_rate=None, max_bin=None,\n",
              "              max_cat_threshold=None, max_cat_to_onehot=None,\n",
              "              max_delta_step=None, max_depth=None, max_leaves=None,\n",
              "              min_child_weight=None, missing=nan, monotone_constraints=None,\n",
              "              multi_strategy=None, n_estimators=None, n_jobs=None,\n",
              "              num_parallel_tree=None, random_state=None, ...)</pre></div></div></div></div></div>"
            ]
          },
          "metadata": {},
          "execution_count": 25
        }
      ]
    },
    {
      "cell_type": "code",
      "source": [
        "y_pre_logistic=model_logistic.predict(x_test)\n",
        "y_pre_svm=model_svm.predict(x_test)\n",
        "y_pre_kneighbors=model_kneighbors.predict(x_test)\n",
        "y_pre_decisiontree=model_tree.predict(x_test)\n",
        "y_pre_forest=model_forest.predict(x_test)\n",
        "y_pre_xg=model_xg.predict(x_test)"
      ],
      "metadata": {
        "id": "GrsHbBqrgQ_p"
      },
      "execution_count": 40,
      "outputs": []
    },
    {
      "cell_type": "markdown",
      "source": [
        "Testing accuracy\n"
      ],
      "metadata": {
        "id": "kYIYbhEbhDyI"
      }
    },
    {
      "cell_type": "code",
      "source": [
        "from sklearn.metrics import accuracy_score\n",
        "Logistic_acc=accuracy_score(y_test,y_pre_logistic)\n",
        "SVM_acc=accuracy_score(y_test,y_pre_svm)\n",
        "Kneighbors=accuracy_score(y_test,y_pre_kneighbors)\n",
        "DecisionTree = accuracy_score(y_test,y_pre_decisiontree)\n",
        "RandomForest = accuracy_score(y_test,y_pre_forest)\n",
        "XGBoost = accuracy_score(y_test,y_pre_xg)"
      ],
      "metadata": {
        "id": "MrcOcPyjf02c"
      },
      "execution_count": 41,
      "outputs": []
    },
    {
      "cell_type": "code",
      "source": [
        "print(Logistic_acc)\n",
        "print(SVM_acc)\n",
        "print(Kneighbors)\n",
        "print(DecisionTree)\n",
        "print(RandomForest)\n",
        "print(XGBoost)"
      ],
      "metadata": {
        "colab": {
          "base_uri": "https://localhost:8080/"
        },
        "id": "1aweyt5shJPz",
        "outputId": "bf2f9d82-b4b4-4789-bcfc-23f3f8e89484"
      },
      "execution_count": 42,
      "outputs": [
        {
          "output_type": "stream",
          "name": "stdout",
          "text": [
            "0.9032258064516129\n",
            "0.8709677419354839\n",
            "0.8870967741935484\n",
            "0.8709677419354839\n",
            "0.9193548387096774\n",
            "0.8064516129032258\n"
          ]
        }
      ]
    },
    {
      "cell_type": "markdown",
      "source": [
        "plotting accuracy\n"
      ],
      "metadata": {
        "id": "sB6vA_JEi5_Q"
      }
    },
    {
      "cell_type": "code",
      "source": [
        "import matplotlib.pyplot as plt\n",
        "plt.figure(figsize=(10,5))\n",
        "plt.bar(\"Logistic regression\",Logistic_acc,width=0.5)\n",
        "plt.bar(\"SVM\",SVM_acc,width=0.5)\n",
        "plt.bar(\"Kneighbors\",Kneighbors,width=0.5)\n",
        "plt.bar(\"DecisionTree\",DecisionTree,width=0.5)\n",
        "plt.bar(\"RandomForest\",RandomForest,width=0.5)\n",
        "plt.bar(\"XGBoost\",XGBoost,width=0.5)\n",
        "plt.xlabel(\"ML Algorithms\")\n",
        "plt.ylabel(\"Accuracy\")\n",
        "plt.show()"
      ],
      "metadata": {
        "colab": {
          "base_uri": "https://localhost:8080/",
          "height": 465
        },
        "id": "dJTxubVki_ZT",
        "outputId": "23f5af32-5c50-4ef8-f023-11627ab328e2"
      },
      "execution_count": 43,
      "outputs": [
        {
          "output_type": "display_data",
          "data": {
            "text/plain": [
              "<Figure size 1000x500 with 1 Axes>"
            ],
            "image/png": "[encoded data removed]"
          },
          "metadata": {}
        }
      ]
    },
    {
      "cell_type": "markdown",
      "source": [
        "Gender=0(F),Age=59,smoking=1(no),yellow fingers=1(no),anxiety=1(no),peer_pressure=2(yes),chronic disease=1(no),FATIGUE= 2  ,ALLERGY=1(no) ,WHEEZING= 2(yes) ,ALCOHOL CONSUMING=1(no),COUGHING= 2(yes),SHORTNESS OF BREATH= 2,SWALLOWING DIFFICULTY= 1(no),CHEST PAIN= 2(yes)  "
      ],
      "metadata": {
        "id": "jgYGnUjXqA36"
      }
    },
    {
      "cell_type": "code",
      "source": [
        "result=model_forest.predict(sc.transform(([[1,82,1,2,2,1,1,2,2,2,1,2,2,1,2]])))\n",
        "if result == [0]:\n",
        "  print(\"Person is not having lung disease\")\n",
        "else:\n",
        "  print(\"Person is having lung disease\")"
      ],
      "metadata": {
        "colab": {
          "base_uri": "https://localhost:8080/"
        },
        "id": "vN9Fw-22tvs8",
        "outputId": "164e62e9-11cb-4c4c-8a2e-9596111cb8ea"
      },
      "execution_count": 44,
      "outputs": [
        {
          "output_type": "stream",
          "name": "stdout",
          "text": [
            "Person is having lung disease\n"
          ]
        }
      ]
    }
  ]
}